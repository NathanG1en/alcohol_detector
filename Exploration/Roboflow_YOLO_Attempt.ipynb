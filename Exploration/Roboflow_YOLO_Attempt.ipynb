{
 "cells": [
  {
   "metadata": {},
   "cell_type": "markdown",
   "source": "## Trying to use RoboFlow's Model",
   "id": "a77ee46000d29376"
  },
  {
   "metadata": {},
   "cell_type": "code",
   "source": [
    "!pip install inference\n",
    "!pip install roboflow"
   ],
   "id": "d1c9e27345d86c68",
   "outputs": [],
   "execution_count": null
  },
  {
   "metadata": {
    "ExecuteTime": {
     "end_time": "2024-08-03T18:33:02.033401Z",
     "start_time": "2024-08-03T18:33:02.029476Z"
    }
   },
   "cell_type": "code",
   "source": [
    "from PIL import Image\n",
    "from dotenv import load_dotenv\n",
    "import os\n",
    "\n",
    "load_dotenv()\n",
    "API_KEY = os.getenv(\"API_KEY\")\n"
   ],
   "id": "1f244c3cdb9bd65",
   "outputs": [],
   "execution_count": 7
  },
  {
   "metadata": {},
   "cell_type": "code",
   "source": [
    "from roboflow import Roboflow\n",
    "rf = Roboflow(api_key=f\"{API_KEY}\")\n",
    "project = rf.workspace(\"nathansplace\").project(\"alcohol-classifier\")\n",
    "version = project.version(1)\n",
    "dataset = version.download(\"multiclass\")"
   ],
   "id": "2fa137cf35f923cf",
   "outputs": [],
   "execution_count": null
  },
  {
   "metadata": {},
   "cell_type": "markdown",
   "source": "I just like 200 x 200 images - so I'd like all the images the model to try and detect to be 200 x 200 - I might play around with different methods of resizing (squishing, cropping, etc...)",
   "id": "f3e9e9285b355800"
  },
  {
   "metadata": {
    "ExecuteTime": {
     "end_time": "2024-08-03T18:14:21.466164Z",
     "start_time": "2024-08-03T18:14:21.412920Z"
    }
   },
   "cell_type": "code",
   "source": [
    "def resize_image(image, target_size = (200, 200)):\n",
    "    try: \n",
    "        with Image.open(image) as im:\n",
    "            resized_image = im.resize(target_size)\n",
    "            print(\"yezzir\")\n",
    "            return resized_image.save(image)\n",
    "    except Exception as e:\n",
    "        print(f\"An error occurred: {e}\")\n",
    "\n",
    "resize_image(\"data/beer.jpg\")"
   ],
   "id": "682cc3ae376565af",
   "outputs": [
    {
     "name": "stdout",
     "output_type": "stream",
     "text": [
      "yezzir\n"
     ]
    }
   ],
   "execution_count": 13
  },
  {
   "metadata": {
    "ExecuteTime": {
     "end_time": "2024-08-03T18:35:59.043201Z",
     "start_time": "2024-08-03T18:35:50.792353Z"
    }
   },
   "cell_type": "code",
   "source": [
    "from inference_sdk import InferenceHTTPClient\n",
    "\n",
    "# create an inference client\n",
    "CLIENT = InferenceHTTPClient(\n",
    "    api_url=\"https://detect.roboflow.com\",\n",
    "    api_key=f\"{API_KEY}\"\n",
    ")\n",
    "\n",
    "# run inference on a local image\n",
    "data = CLIENT.infer(\n",
    "    \"data/beer.jpg\", \n",
    "    model_id=\"alcohol-classifier/1\"\n",
    ")\n",
    "\n",
    "\n"
   ],
   "id": "929c4435ca884b85",
   "outputs": [],
   "execution_count": 11
  },
  {
   "metadata": {
    "ExecuteTime": {
     "end_time": "2024-08-03T18:36:23.530846Z",
     "start_time": "2024-08-03T18:36:23.528550Z"
    }
   },
   "cell_type": "code",
   "source": [
    "predictions = data['predictions']\n",
    "\n",
    "# Find the highest confidence prediction\n",
    "max_prediction = max(predictions.items(), key=lambda x: x[1]['confidence'])\n",
    "\n",
    "# Extract the item and confidence value\n",
    "highest_predicted_item = max_prediction[0]\n",
    "highest_confidence_value = max_prediction[1]['confidence']\n",
    "\n",
    "print(f\"The highest predicted item is '{highest_predicted_item}' with a confidence of {highest_confidence_value:.4f}\")"
   ],
   "id": "1634d9482b087baf",
   "outputs": [
    {
     "name": "stdout",
     "output_type": "stream",
     "text": [
      "The highest predicted item is 'grenadine' with a confidence of 0.5577\n"
     ]
    }
   ],
   "execution_count": 13
  },
  {
   "metadata": {
    "ExecuteTime": {
     "end_time": "2024-08-03T18:36:13.174732Z",
     "start_time": "2024-08-03T18:36:13.169907Z"
    }
   },
   "cell_type": "code",
   "source": "data",
   "id": "57b02b83e5e3460d",
   "outputs": [
    {
     "data": {
      "text/plain": [
       "{'time': 0.11174435099997027,\n",
       " 'image': {'width': 200, 'height': 200},\n",
       " 'predictions': {'beer': {'confidence': 0.01332128420472145, 'class_id': 0},\n",
       "  'cranberry': {'confidence': 0.002386306645348668, 'class_id': 1},\n",
       "  'dark': {'confidence': 0.005019932985305786, 'class_id': 2},\n",
       "  'grenadine': {'confidence': 0.5577231645584106, 'class_id': 3},\n",
       "  'juice': {'confidence': 0.005081018432974815, 'class_id': 4},\n",
       "  'lime': {'confidence': 0.005165001843124628, 'class_id': 5},\n",
       "  'pineapple': {'confidence': 0.0037277531810104847, 'class_id': 6},\n",
       "  'rum': {'confidence': 0.005669723264873028, 'class_id': 7},\n",
       "  'simple': {'confidence': 0.007935523986816406, 'class_id': 8},\n",
       "  'syrup': {'confidence': 0.00905019510537386, 'class_id': 9},\n",
       "  'tequila': {'confidence': 0.014854197390377522, 'class_id': 10},\n",
       "  'vodka': {'confidence': 0.00941596832126379, 'class_id': 11},\n",
       "  'whiskey': {'confidence': 0.14871451258659363, 'class_id': 12},\n",
       "  'white': {'confidence': 0.004000151064246893, 'class_id': 13}},\n",
       " 'predicted_classes': ['grenadine']}"
      ]
     },
     "execution_count": 12,
     "metadata": {},
     "output_type": "execute_result"
    }
   ],
   "execution_count": 12
  },
  {
   "metadata": {},
   "cell_type": "code",
   "outputs": [],
   "execution_count": null,
   "source": "",
   "id": "48db106187d6e4d2"
  }
 ],
 "metadata": {
  "kernelspec": {
   "display_name": "Python 3",
   "language": "python",
   "name": "python3"
  },
  "language_info": {
   "codemirror_mode": {
    "name": "ipython",
    "version": 2
   },
   "file_extension": ".py",
   "mimetype": "text/x-python",
   "name": "python",
   "nbconvert_exporter": "python",
   "pygments_lexer": "ipython2",
   "version": "2.7.6"
  }
 },
 "nbformat": 4,
 "nbformat_minor": 5
}
